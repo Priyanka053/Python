{
 "cells": [
  {
   "cell_type": "code",
   "execution_count": null,
   "id": "8b64a223-7336-4ee8-9442-cc2159237786",
   "metadata": {},
   "outputs": [],
   "source": [
    "                                       Types of numbers\n",
    "# Python has various \"types\" of numbers (numeric literals). We'll mainly focus on integers and floating-point numbers.\n",
    "\n",
    "# Integers are just whole numbers, positive or negative. For example: 2 and -2 are examples of integers.\n",
    "\n",
    "# Floating point numbers in Python are notable because they have a decimal point in them, or use an exponential (e) to define the number. \n",
    "# For example, 2.0 and -2.1 are examples of floating point numbers. 4E2 (4 times 10 to the power of 2) is also an example of a floating point \n",
    "# number in Python."
   ]
  },
  {
   "cell_type": "code",
   "execution_count": null,
   "id": "0c5ac1ff-0276-4815-b295-96e5e85cb8aa",
   "metadata": {},
   "outputs": [],
   "source": [
    "Basic Arithmetic"
   ]
  },
  {
   "cell_type": "code",
   "execution_count": 2,
   "id": "4c872fed-5b43-46ae-a98f-816c94c6e865",
   "metadata": {},
   "outputs": [
    {
     "name": "stdout",
     "output_type": "stream",
     "text": [
      "3\n",
      "1\n",
      "4\n",
      "1.5\n"
     ]
    }
   ],
   "source": [
    "# Addition\n",
    "print(2+1)\n",
    "\n",
    "# Subtraction\n",
    "print(2-1)\n",
    "\n",
    "# Multiplication\n",
    "print(2*2)\n",
    "\n",
    "# Division\n",
    "print(3/2)"
   ]
  },
  {
   "cell_type": "code",
   "execution_count": 3,
   "id": "8cc5d28c-9d0a-4c74-9818-0f22859b074a",
   "metadata": {},
   "outputs": [
    {
     "data": {
      "text/plain": [
       "16"
      ]
     },
     "execution_count": 3,
     "metadata": {},
     "output_type": "execute_result"
    }
   ],
   "source": [
    "# Powers\n",
    "2**4"
   ]
  },
  {
   "cell_type": "code",
   "execution_count": 4,
   "id": "a263a96a-ee89-4c1d-874d-e23653480a96",
   "metadata": {},
   "outputs": [
    {
     "data": {
      "text/plain": [
       "105"
      ]
     },
     "execution_count": 4,
     "metadata": {},
     "output_type": "execute_result"
    }
   ],
   "source": [
    "# Order of Operations followed in Python\n",
    "2 + 10 * 10 + 3"
   ]
  },
  {
   "cell_type": "code",
   "execution_count": 5,
   "id": "0e8642a2-6f5c-4cf5-b019-acc888d5a79a",
   "metadata": {},
   "outputs": [
    {
     "data": {
      "text/plain": [
       "156"
      ]
     },
     "execution_count": 5,
     "metadata": {},
     "output_type": "execute_result"
    }
   ],
   "source": [
    "# Can use parenthesis to specify orders\n",
    "(2+10) * (10+3)"
   ]
  },
  {
   "cell_type": "code",
   "execution_count": 6,
   "id": "c29fda57-da45-4c8c-83ce-3fb6ed2530aa",
   "metadata": {},
   "outputs": [
    {
     "data": {
      "text/plain": [
       "40"
      ]
     },
     "execution_count": 6,
     "metadata": {},
     "output_type": "execute_result"
    }
   ],
   "source": [
    "# multiply 15 by 2 and add 10 to it\n",
    "(15*2)+10"
   ]
  },
  {
   "cell_type": "code",
   "execution_count": null,
   "id": "fa8a7946-8699-4833-86e4-e8a740ec1052",
   "metadata": {},
   "outputs": [],
   "source": [
    "Variable Assignments"
   ]
  },
  {
   "cell_type": "code",
   "execution_count": null,
   "id": "b85dcc4c-3b91-42eb-b80e-c820bbf4127d",
   "metadata": {},
   "outputs": [],
   "source": [
    "We use a single equals sign to assign labels to variables. Let's see a few examples of how we can do this.\n",
    "\n",
    "The names you use when creating these labels need to follow a few rules:\n",
    "\n",
    "1. Names can not start with a number.\n",
    "2. There can be no spaces in the name, use _ instead.\n",
    "3. Can't use any of these symbols :'\",<>/?|\\()!@#$%^&*~-+\n",
    "\n",
    "\n",
    "Using variable names can be a very useful way to keep track of different variables in Python."
   ]
  },
  {
   "cell_type": "code",
   "execution_count": null,
   "id": "6a80b8cf-ac80-4630-a26e-044d198e388c",
   "metadata": {},
   "outputs": [],
   "source": [
    "Mini Challenge\n",
    "Given the numbers stored in variables a and b. Write a simple code to compute the mean of these two numbers and assign it to a variable mean."
   ]
  },
  {
   "cell_type": "code",
   "execution_count": 8,
   "id": "c92a8dd7-0bd7-4c86-9885-ee88b7de868d",
   "metadata": {},
   "outputs": [
    {
     "name": "stdout",
     "output_type": "stream",
     "text": [
      "Mean: 5.5\n"
     ]
    }
   ],
   "source": [
    "a=5\n",
    "b=6\n",
    "c=(a+b)/2\n",
    "print(\"Mean:\",c)"
   ]
  }
 ],
 "metadata": {
  "kernelspec": {
   "display_name": "Python 3 (ipykernel)",
   "language": "python",
   "name": "python3"
  },
  "language_info": {
   "codemirror_mode": {
    "name": "ipython",
    "version": 3
   },
   "file_extension": ".py",
   "mimetype": "text/x-python",
   "name": "python",
   "nbconvert_exporter": "python",
   "pygments_lexer": "ipython3",
   "version": "3.12.0"
  }
 },
 "nbformat": 4,
 "nbformat_minor": 5
}
