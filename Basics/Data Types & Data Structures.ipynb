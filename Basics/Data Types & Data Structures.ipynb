{
 "cells": [
  {
   "cell_type": "code",
   "execution_count": null,
   "id": "9739235c-66c4-4066-b2e1-1c4718f3a0d3",
   "metadata": {},
   "outputs": [],
   "source": [
    "                                                         Data Types & Data Structures"
   ]
  },
  {
   "cell_type": "code",
   "execution_count": null,
   "id": "4a85a476-73d5-4425-bbd1-879da9b2513c",
   "metadata": {},
   "outputs": [],
   "source": [
    "Everything in Python is an \"object\", including integers/floats\n",
    "Most common and important types (classes)\n",
    "\"Single value\": None, int, float, bool, str, complex\n",
    "\"Multiple values\": list, tuple, set, dict"
   ]
  },
  {
   "cell_type": "code",
   "execution_count": 1,
   "id": "a0773427-6e4d-4f96-9e21-1a623110e957",
   "metadata": {},
   "outputs": [
    {
     "name": "stdout",
     "output_type": "stream",
     "text": [
      "<class 'int'>\n",
      "<class 'float'>\n",
      "<class 'str'>\n",
      "<class 'bool'>\n"
     ]
    }
   ],
   "source": [
    "# Identifying Data Types\n",
    "a = 42\n",
    "b = 32.30\n",
    "c = \"Hello\"\n",
    "d = True\n",
    "print(type(a))#gets type of a\n",
    "print(type(b))#gets type of b\n",
    "print(type(c))\n",
    "print(type(d))"
   ]
  },
  {
   "cell_type": "code",
   "execution_count": 2,
   "id": "d948f0be-3f4b-4cb0-bd67-d409b73d85f6",
   "metadata": {},
   "outputs": [
    {
     "data": {
      "text/plain": [
       "False"
      ]
     },
     "execution_count": 2,
     "metadata": {},
     "output_type": "execute_result"
    }
   ],
   "source": [
    "10==5"
   ]
  },
  {
   "cell_type": "code",
   "execution_count": 3,
   "id": "c0981176-8512-4cc7-8a87-5a7f7bb38d6f",
   "metadata": {},
   "outputs": [
    {
     "data": {
      "text/plain": [
       "True"
      ]
     },
     "execution_count": 3,
     "metadata": {},
     "output_type": "execute_result"
    }
   ],
   "source": [
    "5==5"
   ]
  },
  {
   "cell_type": "code",
   "execution_count": 4,
   "id": "4909b1e6-d4a3-458e-975f-9eb2eab5d0f2",
   "metadata": {},
   "outputs": [
    {
     "name": "stdout",
     "output_type": "stream",
     "text": [
      "<class 'int'>\n"
     ]
    }
   ],
   "source": [
    "c=5.78\n",
    "print(type(a))"
   ]
  },
  {
   "cell_type": "code",
   "execution_count": null,
   "id": "84bc485e-3e19-48a6-8ba6-ab0f126ab573",
   "metadata": {},
   "outputs": [],
   "source": [
    "Data Structure: It is the way computer stores the data/information in it."
   ]
  },
  {
   "cell_type": "code",
   "execution_count": null,
   "id": "64351bf4-74c3-4969-b583-f7972a888214",
   "metadata": {},
   "outputs": [],
   "source": [
    "                        Data Types: Lists"
   ]
  },
  {
   "cell_type": "code",
   "execution_count": null,
   "id": "2db3ddef-b66c-4275-8db3-4ed298cd6ffe",
   "metadata": {},
   "outputs": [],
   "source": [
    "Lists can be thought of as the most general version of a sequence in Python.\n",
    "Lists are containers that store a set of values of any data type. \n",
    "Lists need not be homogeneous always which makes it the most powerful tool in Python.\n",
    "The list can be represented by [ ]\n",
    "The list allows duplicate elements\n",
    "The list can be nested among all\n",
    "A list can be created using the list() function\n",
    "A list is mutable i.e. we can make any changes in the list.\n",
    "List is ordered\n",
    "    Ordered--Mutable-Heterogenous-- allows Duplicate values\n",
    "    \n",
    "    "
   ]
  },
  {
   "cell_type": "code",
   "execution_count": 8,
   "id": "094a3746-c7fd-4fac-a868-1bbd14394845",
   "metadata": {},
   "outputs": [],
   "source": [
    "# Assign a list to a variable named my_list\n",
    "Tosko = [1,2,3]"
   ]
  },
  {
   "cell_type": "code",
   "execution_count": 9,
   "id": "860992cb-0eb4-44ed-b662-027946a791e6",
   "metadata": {},
   "outputs": [
    {
     "name": "stdout",
     "output_type": "stream",
     "text": [
      "1\n"
     ]
    }
   ],
   "source": [
    "print(Tosko[0])"
   ]
  },
  {
   "cell_type": "code",
   "execution_count": 11,
   "id": "d715375b-f2d4-4912-9b4d-a10bee6ea827",
   "metadata": {},
   "outputs": [
    {
     "ename": "IndexError",
     "evalue": "list index out of range",
     "output_type": "error",
     "traceback": [
      "\u001b[1;31m---------------------------------------------------------------------------\u001b[0m",
      "\u001b[1;31mIndexError\u001b[0m                                Traceback (most recent call last)",
      "Cell \u001b[1;32mIn[11], line 1\u001b[0m\n\u001b[1;32m----> 1\u001b[0m \u001b[38;5;28mprint\u001b[39m(\u001b[43mTosko\u001b[49m\u001b[43m[\u001b[49m\u001b[38;5;241;43m3\u001b[39;49m\u001b[43m]\u001b[49m)\n",
      "\u001b[1;31mIndexError\u001b[0m: list index out of range"
     ]
    }
   ],
   "source": [
    "# Printing out of-range value from the list\n",
    "print(Tosko[3])"
   ]
  },
  {
   "cell_type": "code",
   "execution_count": 12,
   "id": "e5fae643-716b-4d92-952b-58f69ddbf2f7",
   "metadata": {},
   "outputs": [
    {
     "data": {
      "text/plain": [
       "[1, 2, 3]"
      ]
     },
     "execution_count": 12,
     "metadata": {},
     "output_type": "execute_result"
    }
   ],
   "source": [
    "Tosko"
   ]
  },
  {
   "cell_type": "code",
   "execution_count": 13,
   "id": "377dfd9c-3d39-40ab-a50d-268dddc83533",
   "metadata": {},
   "outputs": [
    {
     "data": {
      "text/plain": [
       "3"
      ]
     },
     "execution_count": 13,
     "metadata": {},
     "output_type": "execute_result"
    }
   ],
   "source": [
    "# Just like strings, the len() function will tell you how many items are in the sequence of the list.\n",
    "len(Tosko)"
   ]
  },
  {
   "cell_type": "code",
   "execution_count": null,
   "id": "41ae52b2-3598-436e-bae7-1bea35dabe83",
   "metadata": {},
   "outputs": [],
   "source": [
    "Task: \n",
    "#Create a list which includes a number, floating point, strings and character."
   ]
  },
  {
   "cell_type": "code",
   "execution_count": null,
   "id": "e9241b19-3d11-4bbe-8b0e-e3d2a85b385c",
   "metadata": {},
   "outputs": [],
   "source": [
    "sobo=[\"Priyanka\", 27, 4.11, 'a']"
   ]
  },
  {
   "cell_type": "code",
   "execution_count": null,
   "id": "08499c5c-b1c5-4685-986a-385851f7a054",
   "metadata": {},
   "outputs": [],
   "source": [
    "List Operators\n",
    ".append: add element to end of list\n",
    ".insert: insert element at given index\n",
    ".extend: extend one list with another list"
   ]
  },
  {
   "cell_type": "code",
   "execution_count": null,
   "id": "06ba62e8-39b0-4aa0-90de-f83bea580acb",
   "metadata": {},
   "outputs": [],
   "source": [
    "Adding New Elements to a list"
   ]
  },
  {
   "cell_type": "code",
   "execution_count": null,
   "id": "2f4b3a4b-0d58-4141-8b62-2624187882f6",
   "metadata": {},
   "outputs": [],
   "source": [
    "Append=Adding new elements to the end of the list."
   ]
  },
  {
   "cell_type": "code",
   "execution_count": 22,
   "id": "a4040a58-9349-4094-bf0b-4cc23de76b60",
   "metadata": {},
   "outputs": [
    {
     "name": "stdout",
     "output_type": "stream",
     "text": [
      "[1, 2, 3, 'Four', 'five']\n"
     ]
    }
   ],
   "source": [
    "Dakota=[1,2,3,'Four','five']\n",
    "print(Dakota)"
   ]
  },
  {
   "cell_type": "code",
   "execution_count": 23,
   "id": "7b912809-8ba2-4940-a734-ee809ef4e6b3",
   "metadata": {},
   "outputs": [],
   "source": [
    "Dakota.append(10)"
   ]
  },
  {
   "cell_type": "code",
   "execution_count": 24,
   "id": "bc3058bc-a991-4612-83a0-bb998577c029",
   "metadata": {},
   "outputs": [
    {
     "data": {
      "text/plain": [
       "[1, 2, 3, 'Four', 'five', 10]"
      ]
     },
     "execution_count": 24,
     "metadata": {},
     "output_type": "execute_result"
    }
   ],
   "source": [
    "Dakota"
   ]
  },
  {
   "cell_type": "code",
   "execution_count": 25,
   "id": "82f0cfcd-dfcd-4a18-8c25-df875c9392da",
   "metadata": {},
   "outputs": [
    {
     "name": "stdout",
     "output_type": "stream",
     "text": [
      "[1, 2.3, ['a', 'b'], 'New York', 3.1]\n"
     ]
    }
   ],
   "source": [
    "# append a value to the end of the list\n",
    "l = [1, 2.3, ['a', 'b'], 'New York']\n",
    "l.append(3.1)\n",
    "print(l)"
   ]
  },
  {
   "cell_type": "code",
   "execution_count": 69,
   "id": "2130791a-43a0-44e5-9076-4f938d9bfc17",
   "metadata": {},
   "outputs": [],
   "source": [
    "a=[1,2,3]"
   ]
  },
  {
   "cell_type": "code",
   "execution_count": 70,
   "id": "0e1ba55e-42c3-401c-8bcb-978417368b67",
   "metadata": {},
   "outputs": [],
   "source": [
    "a.append([5,6,7])"
   ]
  },
  {
   "cell_type": "code",
   "execution_count": 71,
   "id": "3ebb297f-25e7-48ba-a296-6723a1b16291",
   "metadata": {},
   "outputs": [
    {
     "data": {
      "text/plain": [
       "[1, 2, 3, [5, 6, 7]]"
      ]
     },
     "execution_count": 71,
     "metadata": {},
     "output_type": "execute_result"
    }
   ],
   "source": [
    "a"
   ]
  },
  {
   "cell_type": "code",
   "execution_count": 32,
   "id": "d27248f0-375d-4a2c-a743-f094eb503508",
   "metadata": {},
   "outputs": [],
   "source": [
    "# # extend a list with another list. \n",
    "a.extend([5,6,7])"
   ]
  },
  {
   "cell_type": "code",
   "execution_count": 72,
   "id": "a24b3e70-e278-4c3b-8fd5-4ce68589a666",
   "metadata": {},
   "outputs": [
    {
     "data": {
      "text/plain": [
       "[1, 2, 3, [5, 6, 7]]"
      ]
     },
     "execution_count": 72,
     "metadata": {},
     "output_type": "execute_result"
    }
   ],
   "source": [
    "a"
   ]
  },
  {
   "cell_type": "code",
   "execution_count": 38,
   "id": "228aff7d-a327-43d0-bac8-83b6ab296e96",
   "metadata": {},
   "outputs": [
    {
     "name": "stdout",
     "output_type": "stream",
     "text": [
      "[1, 2, 3, 5]\n"
     ]
    }
   ],
   "source": [
    "#append '5' to the list\n",
    "a.append(5)\n",
    "print(a)"
   ]
  },
  {
   "cell_type": "code",
   "execution_count": 43,
   "id": "d070335c-3a48-4fe9-8cf5-5b17ca286e1c",
   "metadata": {},
   "outputs": [
    {
     "name": "stdout",
     "output_type": "stream",
     "text": [
      "[2, 3, 6, 1, 4, 5]\n"
     ]
    }
   ],
   "source": [
    "# extend a list with another list. \n",
    "a=[2,3,6]\n",
    "a.extend([1,4,5])\n",
    "print(a)"
   ]
  },
  {
   "cell_type": "code",
   "execution_count": 73,
   "id": "fd8ff830-ed62-4c4f-b79c-c34ebf8663e3",
   "metadata": {},
   "outputs": [],
   "source": [
    "# # Insert a name to the list\n",
    "a.insert(3,\"priyanka\")"
   ]
  },
  {
   "cell_type": "code",
   "execution_count": 74,
   "id": "679541a8-fc44-4ab6-8726-898afbf6e1d5",
   "metadata": {},
   "outputs": [
    {
     "data": {
      "text/plain": [
       "[1, 2, 3, 'priyanka', [5, 6, 7]]"
      ]
     },
     "execution_count": 74,
     "metadata": {},
     "output_type": "execute_result"
    }
   ],
   "source": [
    "a"
   ]
  },
  {
   "cell_type": "code",
   "execution_count": null,
   "id": "755d002e-6929-46df-954a-ec5b63bf1f96",
   "metadata": {},
   "outputs": [],
   "source": []
  },
  {
   "cell_type": "code",
   "execution_count": null,
   "id": "adb96ba1-3585-4303-a736-9792abe8b5d0",
   "metadata": {},
   "outputs": [],
   "source": [
    "Slicing\n",
    "Slicing is used to access individual elements or a rage of elements in a list.\n",
    "\n",
    "Python supports \"slicing\" indexable sequences. The syntax for slicing lists is:\n",
    "\n",
    "list_object[start:end:step] or\n",
    "list_object[start:end]\n",
    "\n",
    "start and end are indices (start inclusive, end exclusive). All slicing values are optional."
   ]
  },
  {
   "cell_type": "code",
   "execution_count": null,
   "id": "dd07d7ed-3949-44cf-a09f-c419b7438618",
   "metadata": {},
   "outputs": [],
   "source": [
    "a=[1,2,3,4,5,6,7,8,9,10]"
   ]
  },
  {
   "cell_type": "code",
   "execution_count": 45,
   "id": "9313dc13-bd7d-4167-8c46-595f27f69f93",
   "metadata": {},
   "outputs": [
    {
     "name": "stdout",
     "output_type": "stream",
     "text": [
      "0\n",
      "1\n",
      "2\n",
      "3\n",
      "4\n",
      "5\n",
      "6\n",
      "7\n",
      "8\n",
      "9\n"
     ]
    }
   ],
   "source": [
    "for i in range(10):\n",
    "   print(i)\n"
   ]
  },
  {
   "cell_type": "code",
   "execution_count": 51,
   "id": "cb215704-aad3-4254-bae8-bdd2468636a0",
   "metadata": {},
   "outputs": [
    {
     "name": "stdout",
     "output_type": "stream",
     "text": [
      "[0, 1, 2, 3, 4, 5, 6, 7, 8, 9]\n"
     ]
    }
   ],
   "source": [
    "a=list(range(10))\n",
    "print(a)"
   ]
  },
  {
   "cell_type": "code",
   "execution_count": 53,
   "id": "dbda3e1a-9cb1-4b31-b0df-c41c84c0fc97",
   "metadata": {},
   "outputs": [
    {
     "data": {
      "text/plain": [
       "[0, 1, 2, 3, 4, 5, 6, 7, 8, 9]"
      ]
     },
     "execution_count": 53,
     "metadata": {},
     "output_type": "execute_result"
    }
   ],
   "source": [
    "a"
   ]
  },
  {
   "cell_type": "code",
   "execution_count": 57,
   "id": "8e44586e-01f2-48d4-a841-4d53866ccab3",
   "metadata": {},
   "outputs": [
    {
     "data": {
      "text/plain": [
       "[0, 2, 4, 6, 8]"
      ]
     },
     "execution_count": 57,
     "metadata": {},
     "output_type": "execute_result"
    }
   ],
   "source": [
    "a[0:10:2]"
   ]
  },
  {
   "cell_type": "code",
   "execution_count": 58,
   "id": "cd7ed67f-860d-4cc7-b864-54737e39589b",
   "metadata": {},
   "outputs": [
    {
     "data": {
      "text/plain": [
       "[0, 3, 6, 9]"
      ]
     },
     "execution_count": 58,
     "metadata": {},
     "output_type": "execute_result"
    }
   ],
   "source": [
    "a[0:10:3]"
   ]
  },
  {
   "cell_type": "code",
   "execution_count": 59,
   "id": "375067ba-2585-4598-ab59-91aa2221915c",
   "metadata": {},
   "outputs": [
    {
     "data": {
      "text/plain": [
       "[2, 5, 8]"
      ]
     },
     "execution_count": 59,
     "metadata": {},
     "output_type": "execute_result"
    }
   ],
   "source": [
    "a[2:10:3]"
   ]
  },
  {
   "cell_type": "code",
   "execution_count": 60,
   "id": "bb56e7ea-5de4-4aa0-bee8-4037d81b7374",
   "metadata": {},
   "outputs": [
    {
     "name": "stdout",
     "output_type": "stream",
     "text": [
      "[0, 1, 2, 3, 4, 5, 6, 7, 8, 9]\n",
      "elements from index 4 to 7: [4, 5, 6]\n",
      "alternate elements, starting at index 0: [0, 2, 4, 6, 8]\n",
      "every third element, starting at index 1: [1, 4, 7]\n"
     ]
    }
   ],
   "source": [
    "lst = list(range(10)) # create a list containing 10 numbers starting from 0 \n",
    "print(lst)\n",
    "\n",
    "print(\"elements from index 4 to 7:\", lst[4:7])\n",
    "print(\"alternate elements, starting at index 0:\", lst[0::2]) # prints elements from index 0 till last index with a step of 2\n",
    "print(\"every third element, starting at index 1:\", lst[1::3]) # prints elements from index 1 till last index with a step of 3\n"
   ]
  },
  {
   "cell_type": "code",
   "execution_count": 76,
   "id": "5829b1b5-756b-4df9-8d27-1291c8c7868c",
   "metadata": {},
   "outputs": [],
   "source": [
    "MINI Challange\n",
    "Access the last element of l which is a list and find the last element of that list."
   ]
  },
  {
   "cell_type": "code",
   "execution_count": 77,
   "id": "2e5be4e6-89fc-4de1-beb8-db476cdc82b4",
   "metadata": {},
   "outputs": [],
   "source": [
    "#print Last element of the list\n",
    "l = [1, 2.3, ['a', 'b'], 'New York']"
   ]
  },
  {
   "cell_type": "code",
   "execution_count": 80,
   "id": "a26c8dc0-c69a-4594-a34f-434ea108ab71",
   "metadata": {},
   "outputs": [
    {
     "name": "stdout",
     "output_type": "stream",
     "text": [
      "New York\n"
     ]
    }
   ],
   "source": [
    "a=l[3]\n",
    "print(a)"
   ]
  },
  {
   "cell_type": "code",
   "execution_count": 81,
   "id": "bbdb81a0-fe4b-4122-9770-1f64d1ae15e8",
   "metadata": {},
   "outputs": [
    {
     "data": {
      "text/plain": [
       "'k'"
      ]
     },
     "execution_count": 81,
     "metadata": {},
     "output_type": "execute_result"
    }
   ],
   "source": [
    "a[-1]"
   ]
  },
  {
   "cell_type": "code",
   "execution_count": null,
   "id": "e7cf9d16-b855-4a6b-92df-7f56b92842c2",
   "metadata": {},
   "outputs": [],
   "source": [
    "                                       Data Types: Dictionaries"
   ]
  },
  {
   "cell_type": "code",
   "execution_count": null,
   "id": "0f383d65-c5e7-4385-8ab6-5fea7b6b169a",
   "metadata": {},
   "outputs": [],
   "source": [
    "A Python dictionary consists of a key and then an associated value. That value can be almost any Python object.\n",
    "A dictionary is also a non-homogeneous data structure that stores key-value pairs.\n",
    "The dictionary can be represented by { }\n",
    "The dictionary doesn’t allow duplicate keys.\n",
    "Example: {1: “a”, 2: “b”, 3: “c”, 4: “d”, 5: “e”}\n",
    "A dictionary can be created using the dict() function.\n",
    "A dictionary is mutable, ut Keys are not duplicated.\n",
    "Creating an empty dictionary d={}"
   ]
  },
  {
   "cell_type": "code",
   "execution_count": null,
   "id": "02b11533-ab91-4bb1-92eb-c4d8e1ec1dbc",
   "metadata": {},
   "outputs": [],
   "source": [
    "Constructing a Dictionary"
   ]
  },
  {
   "cell_type": "code",
   "execution_count": 104,
   "id": "9101d327-96b7-4279-b0b7-09adef5654a3",
   "metadata": {},
   "outputs": [],
   "source": [
    "# Make a dictionary with {} and : to signify a key and a value\n",
    "my_dict = {'key1':'value1','key2':'value2'} \n"
   ]
  },
  {
   "cell_type": "code",
   "execution_count": 107,
   "id": "5a19397e-6d64-4f8b-8bb8-85c23b4e157b",
   "metadata": {},
   "outputs": [
    {
     "data": {
      "text/plain": [
       "{'key1': 'value1', 'key2': 'value2'}"
      ]
     },
     "execution_count": 107,
     "metadata": {},
     "output_type": "execute_result"
    }
   ],
   "source": [
    "my_dict"
   ]
  },
  {
   "cell_type": "code",
   "execution_count": 86,
   "id": "56601a28-d3bd-4a41-bea8-12d1c2038ad8",
   "metadata": {},
   "outputs": [
    {
     "data": {
      "text/plain": [
       "'value1'"
      ]
     },
     "execution_count": 86,
     "metadata": {},
     "output_type": "execute_result"
    }
   ],
   "source": [
    "# Call values by their key\n",
    "my_dict['key1']"
   ]
  },
  {
   "cell_type": "code",
   "execution_count": 112,
   "id": "5f97a158-3950-484c-b336-3e6a2353f17b",
   "metadata": {},
   "outputs": [
    {
     "data": {
      "text/plain": [
       "{'key1': 144, 'key2': 'value2'}"
      ]
     },
     "execution_count": 112,
     "metadata": {},
     "output_type": "execute_result"
    }
   ],
   "source": [
    "my_dict['key1']=144\n",
    "my_dict"
   ]
  },
  {
   "cell_type": "code",
   "execution_count": 113,
   "id": "080f5fee-f31e-4538-b315-00b3e1019fb6",
   "metadata": {},
   "outputs": [
    {
     "data": {
      "text/plain": [
       "267"
      ]
     },
     "execution_count": 113,
     "metadata": {},
     "output_type": "execute_result"
    }
   ],
   "source": [
    "# # Set the object equal to itself minus 123 \n",
    "my_dict['key1'] += 123\n",
    "my_dict['key1']"
   ]
  },
  {
   "cell_type": "code",
   "execution_count": 88,
   "id": "631bf2bb-cec6-4a65-9ead-4590b0c1d329",
   "metadata": {},
   "outputs": [
    {
     "data": {
      "text/plain": [
       "{'key1': 144, 'key2': 145}"
      ]
     },
     "execution_count": 88,
     "metadata": {},
     "output_type": "execute_result"
    }
   ],
   "source": [
    "my_dict['key2']=145\n",
    "my_dict"
   ]
  },
  {
   "cell_type": "code",
   "execution_count": 90,
   "id": "74d02f26-e2d0-4d92-9d88-7679e8211c8d",
   "metadata": {},
   "outputs": [
    {
     "data": {
      "text/plain": [
       "-2"
      ]
     },
     "execution_count": 90,
     "metadata": {},
     "output_type": "execute_result"
    }
   ],
   "source": [
    "my_dict['key2']-147"
   ]
  },
  {
   "cell_type": "code",
   "execution_count": 114,
   "id": "2d8db409-bd2a-4e23-9ac7-2f4af6f55ac3",
   "metadata": {},
   "outputs": [
    {
     "data": {
      "text/plain": [
       "'priyanka pal'"
      ]
     },
     "execution_count": 114,
     "metadata": {},
     "output_type": "execute_result"
    }
   ],
   "source": [
    "my_dict={'name':\"priyanka pal\", 'place':\"bangalore\", 'age':27}\n",
    "my_dict['name']"
   ]
  },
  {
   "cell_type": "code",
   "execution_count": 116,
   "id": "140bdb11-b701-4970-8585-1d6b65c688c0",
   "metadata": {},
   "outputs": [
    {
     "data": {
      "text/plain": [
       "{'name': 'priyanka pal', 'place': 'bangalore', 'age': 27, 'country': 'India'}"
      ]
     },
     "execution_count": 116,
     "metadata": {},
     "output_type": "execute_result"
    }
   ],
   "source": [
    "my_dict['country']=\"India\"\n",
    "my_dict"
   ]
  },
  {
   "cell_type": "code",
   "execution_count": null,
   "id": "35278871-6645-47c4-836b-1c7325685b6a",
   "metadata": {},
   "outputs": [],
   "source": [
    "MINI Challange\n",
    "Create an empty dict. Create a new key called animal and assign a value 'Dog' to it."
   ]
  },
  {
   "cell_type": "code",
   "execution_count": 117,
   "id": "d9eed05a-69c3-40c1-b077-fd34b2c2f025",
   "metadata": {},
   "outputs": [],
   "source": [
    "# Create a new dictionary\n",
    "d={}"
   ]
  },
  {
   "cell_type": "code",
   "execution_count": 118,
   "id": "31d38920-9f77-4820-9bae-5674912359d1",
   "metadata": {},
   "outputs": [],
   "source": [
    "# Create a new key through assignment\n",
    "d['Animal']=\"Dog\""
   ]
  },
  {
   "cell_type": "code",
   "execution_count": 119,
   "id": "4742f185-cd0e-456f-b280-691c8202d44f",
   "metadata": {},
   "outputs": [
    {
     "data": {
      "text/plain": [
       "{'Animal': 'Dog'}"
      ]
     },
     "execution_count": 119,
     "metadata": {},
     "output_type": "execute_result"
    }
   ],
   "source": [
    "# Check\n",
    "d"
   ]
  },
  {
   "cell_type": "code",
   "execution_count": 121,
   "id": "75f48a2f-3ad5-44c0-97ab-c9f79d1f697c",
   "metadata": {},
   "outputs": [
    {
     "name": "stdout",
     "output_type": "stream",
     "text": [
      "[1, 2, 4, 5]\n"
     ]
    }
   ],
   "source": [
    "my_list = [1, 2, 3, 4, 5]\n",
    "my_list.remove(3)\n",
    "print(my_list)"
   ]
  },
  {
   "cell_type": "code",
   "execution_count": 14,
   "id": "22fe4273-98df-445e-9d31-36b06ca8e047",
   "metadata": {},
   "outputs": [],
   "source": [
    "list=[\"priyanka\",\"umesh\",\"rakesh\"]\n",
    "new_list=[]\n",
    "for list in list:\n",
    "   new_list.append(\"Hello\"+\" \"+ list)"
   ]
  },
  {
   "cell_type": "code",
   "execution_count": 15,
   "id": "b63c8e5f-250a-4bf3-88d4-4678d59a7815",
   "metadata": {},
   "outputs": [
    {
     "data": {
      "text/plain": [
       "['Hello priyanka', 'Hello umesh', 'Hello rakesh']"
      ]
     },
     "execution_count": 15,
     "metadata": {},
     "output_type": "execute_result"
    }
   ],
   "source": [
    "new_list"
   ]
  },
  {
   "cell_type": "code",
   "execution_count": null,
   "id": "7a6b8012-2c85-45db-b41f-5e7804fc5d22",
   "metadata": {},
   "outputs": [],
   "source": [
    "       Data Types: Set and Booleans"
   ]
  },
  {
   "cell_type": "code",
   "execution_count": null,
   "id": "ae1fe700-ecf3-4ddc-97e4-54783cef086e",
   "metadata": {},
   "outputs": [],
   "source": [
    "Sets are an unordered collection of unique elements. We can construct them by using the set() function. \n",
    "The set data structure is also a non-homogeneous data structure but stores the elements in a single row.\n",
    "The set can be represented by { }\n",
    "The Set will not allow duplicate elements\n",
    "A setA dictionary can be created using the set() function\n",
    "A set is mutable i.e we can make any changes in the set, ut elements are not duplicated.\n",
    "Set is unordered"
   ]
  },
  {
   "cell_type": "code",
   "execution_count": 24,
   "id": "df338a67-03fd-4188-8c59-af12713a6c14",
   "metadata": {},
   "outputs": [],
   "source": [
    "a={1,1,1,1,1,2,2,2,2,3,3,3,3}"
   ]
  },
  {
   "cell_type": "code",
   "execution_count": 25,
   "id": "42a303e1-c66e-4d96-ac50-447221085c94",
   "metadata": {},
   "outputs": [
    {
     "data": {
      "text/plain": [
       "{1, 2, 3}"
      ]
     },
     "execution_count": 25,
     "metadata": {},
     "output_type": "execute_result"
    }
   ],
   "source": [
    "a"
   ]
  },
  {
   "cell_type": "code",
   "execution_count": 33,
   "id": "f50c3724-e053-4c77-9b40-cfe9ad492865",
   "metadata": {},
   "outputs": [
    {
     "name": "stdout",
     "output_type": "stream",
     "text": [
      "{9, 3}\n"
     ]
    }
   ],
   "source": [
    "# We add to sets with the add() method\n",
    "x=set()\n",
    "x.add(3)\n",
    "x.add(9)\n",
    "print(x)"
   ]
  },
  {
   "cell_type": "code",
   "execution_count": 34,
   "id": "d335f544-6ae9-48f3-a3bc-2c5f04e017d1",
   "metadata": {},
   "outputs": [
    {
     "data": {
      "text/plain": [
       "{3, 9}"
      ]
     },
     "execution_count": 34,
     "metadata": {},
     "output_type": "execute_result"
    }
   ],
   "source": [
    "x"
   ]
  },
  {
   "cell_type": "code",
   "execution_count": 35,
   "id": "1c2075a0-16d0-4d12-98bd-f5da32a4a9f7",
   "metadata": {},
   "outputs": [],
   "source": [
    "# Try to add the same element\n",
    "x.add(3)"
   ]
  },
  {
   "cell_type": "code",
   "execution_count": 36,
   "id": "09febc03-c1e1-4158-872f-80e09c133d29",
   "metadata": {},
   "outputs": [
    {
     "data": {
      "text/plain": [
       "{3, 9}"
      ]
     },
     "execution_count": 36,
     "metadata": {},
     "output_type": "execute_result"
    }
   ],
   "source": [
    "x"
   ]
  },
  {
   "cell_type": "code",
   "execution_count": 38,
   "id": "70273c69-eda2-4017-aab5-a004de7f8bb0",
   "metadata": {},
   "outputs": [
    {
     "data": {
      "text/plain": [
       "{1, 2, 3, 4, 5, 6}"
      ]
     },
     "execution_count": 38,
     "metadata": {},
     "output_type": "execute_result"
    }
   ],
   "source": [
    "# We can cast a list with multiple repeat elements to a set to get the unique elements. For example:\n",
    "\n",
    "# Create a list with repeats\n",
    "p = [1,1,2,2,3,4,5,6,1,1]\n",
    "# Cast as set to get unique values\n",
    "set(p)"
   ]
  },
  {
   "cell_type": "code",
   "execution_count": null,
   "id": "5ddb1b3d-19e6-4d44-b569-442cdfbc5aa9",
   "metadata": {},
   "outputs": [],
   "source": [
    " Data Types: Tuples"
   ]
  },
  {
   "cell_type": "code",
   "execution_count": null,
   "id": "fd420055-6a4a-427d-9e87-e7e9b79a4263",
   "metadata": {},
   "outputs": [],
   "source": [
    "Tuples are used to store multiple items in a single variable.\n",
    "\n",
    "Tuple is one of 4 built-in data types in Python used to store collections of data, the other 3 are List, Set, and Dictionary, all with different qualities and usage.\n",
    "\n",
    "A tuple is a collection which is ordered and unchangeable.\n",
    "\n",
    "Tuples are written with round brackets.\n",
    "\n",
    "A tuple is immutable i.e. we can not make any changes in the tuple.\n",
    "    \n",
    "Tuple items are ordered, unchangeable, and allow duplicate values.\n",
    "\n",
    "Tuple items are indexed, the first item has an index [0], the second item has an index [1] etc."
   ]
  },
  {
   "cell_type": "code",
   "execution_count": 43,
   "id": "c4afd733-246a-4d55-9c9f-9f12b4913998",
   "metadata": {},
   "outputs": [
    {
     "name": "stdout",
     "output_type": "stream",
     "text": [
      "('apple', 'banana', 'cherry')\n"
     ]
    }
   ],
   "source": [
    "fruits = (\"apple\", \"banana\", \"cherry\")\n",
    "print(fruits)"
   ]
  },
  {
   "cell_type": "code",
   "execution_count": 40,
   "id": "18fb580f-a903-4a22-8f90-5b127ff50a10",
   "metadata": {},
   "outputs": [
    {
     "name": "stdout",
     "output_type": "stream",
     "text": [
      "<class 'tuple'>\n"
     ]
    }
   ],
   "source": [
    "fruits = (\"apple\", \"banana\", \"cherry\")\n",
    "print(type(fruits))"
   ]
  },
  {
   "cell_type": "code",
   "execution_count": 42,
   "id": "7b59bc45-0e21-44b5-9dd1-d0a72c5e3143",
   "metadata": {},
   "outputs": [
    {
     "name": "stdout",
     "output_type": "stream",
     "text": [
      "cherry\n"
     ]
    }
   ],
   "source": [
    "fruits = (\"apple\", \"banana\", \"cherry\")\n",
    "print(fruits[2])"
   ]
  }
 ],
 "metadata": {
  "kernelspec": {
   "display_name": "Python 3 (ipykernel)",
   "language": "python",
   "name": "python3"
  },
  "language_info": {
   "codemirror_mode": {
    "name": "ipython",
    "version": 3
   },
   "file_extension": ".py",
   "mimetype": "text/x-python",
   "name": "python",
   "nbconvert_exporter": "python",
   "pygments_lexer": "ipython3",
   "version": "3.12.0"
  }
 },
 "nbformat": 4,
 "nbformat_minor": 5
}
