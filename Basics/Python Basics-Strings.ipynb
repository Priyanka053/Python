{
 "cells": [
  {
   "cell_type": "code",
   "execution_count": null,
   "id": "c17f902a-c70f-457f-9cd7-500f156c46df",
   "metadata": {},
   "outputs": [],
   "source": [
    "                                                      Python Basics: Strings\n",
    "\n",
    "Strings are used in Python to record text information, such as name. Strings in Python are actually a sequence, which basically means Python keeps track of every element in the string as a sequence. For example, Python understands the string \"Python' to be a sequence of letters in a specific order. This means we will be able to use indexing to grab particular letters (like the first letter, or the last letter).\n"
   ]
  },
  {
   "cell_type": "code",
   "execution_count": null,
   "id": "3e9665bf-f6b3-4e98-8caf-dafc95102e20",
   "metadata": {},
   "outputs": [],
   "source": [
    "Creating a String\n",
    "To create a string in Python you need to use either single quotes or double quotes. For example:"
   ]
  },
  {
   "cell_type": "code",
   "execution_count": 3,
   "id": "1b0e5276-99be-4e5a-bf09-044adf56350f",
   "metadata": {},
   "outputs": [
    {
     "name": "stdout",
     "output_type": "stream",
     "text": [
      "hello\n",
      "\n",
      "This is also a string\n"
     ]
    }
   ],
   "source": [
    "# Single word\n",
    "print('hello')\n",
    "\n",
    "print() # Used to have a line space between two sentences. Try deleting this line & seeing the difference.\n",
    "\n",
    "# Entire phrase \n",
    "print('This is also a string')"
   ]
  },
  {
   "cell_type": "code",
   "execution_count": 4,
   "id": "073b8c65-5975-45b2-a2d6-309d8c711211",
   "metadata": {},
   "outputs": [
    {
     "name": "stdout",
     "output_type": "stream",
     "text": [
      "Priyanka Pal\n"
     ]
    }
   ],
   "source": [
    "#print your name here\n",
    "print('Priyanka Pal')"
   ]
  },
  {
   "cell_type": "code",
   "execution_count": null,
   "id": "b7159823-36f1-4fd7-b189-58919cb182b0",
   "metadata": {},
   "outputs": [],
   "source": [
    "Assigning Variable\n",
    "Variables are the containers to store values. You can call the variable instead of typing the string every time. \n",
    "variable_name = value or expression"
   ]
  },
  {
   "cell_type": "code",
   "execution_count": 4,
   "id": "134b4443-791c-4575-8fa8-c8d49aac02e4",
   "metadata": {},
   "outputs": [
    {
     "name": "stdout",
     "output_type": "stream",
     "text": [
      "Priyanka Pal\n"
     ]
    }
   ],
   "source": [
    "a='Priyanka Pal'\n",
    "print(a)"
   ]
  },
  {
   "cell_type": "code",
   "execution_count": null,
   "id": "2b703ea2-d586-4763-bf15-d00c4c8ce888",
   "metadata": {},
   "outputs": [],
   "source": [
    "String Indexing\n",
    "We know strings are a sequence, which means Python can use indexes to call parts of the sequence.\n",
    "In Python, we use brackets [] after an object to call its index. We should also note that indexing starts at 0 for Python."
   ]
  },
  {
   "cell_type": "code",
   "execution_count": 5,
   "id": "3110a164-0143-459f-92b8-b72c684ebfba",
   "metadata": {},
   "outputs": [],
   "source": [
    "# Assign s as a string\n",
    "a='Priyanka Pal'"
   ]
  },
  {
   "cell_type": "code",
   "execution_count": 7,
   "id": "7335af77-ae7e-4361-bbf1-e661e9942fe5",
   "metadata": {},
   "outputs": [
    {
     "name": "stdout",
     "output_type": "stream",
     "text": [
      "P\n"
     ]
    }
   ],
   "source": [
    "print(a[0])"
   ]
  },
  {
   "cell_type": "code",
   "execution_count": 10,
   "id": "b0a0bedc-a032-4712-a50e-d262268ae9ab",
   "metadata": {},
   "outputs": [
    {
     "name": "stdout",
     "output_type": "stream",
     "text": [
      "Priyanka Pal\n",
      "P\n",
      "r\n"
     ]
    }
   ],
   "source": [
    "# Print the object\n",
    "print(a)  \n",
    "\n",
    "# Show the first element (in this case a letter)\n",
    "print(a[0])\n",
    "\n",
    "# Show the second element (also a letter)\n",
    "print(a[1])"
   ]
  },
  {
   "cell_type": "code",
   "execution_count": null,
   "id": "e007ac3a-d1bd-41c0-9e00-b5d589d3f938",
   "metadata": {},
   "outputs": [],
   "source": [
    "String Concatenation and Repetition\n",
    "String Concatenation is a process to combine two strings. It is done using the '+' operator.\n",
    "String Repetition is a process of repeating a same string multiple times"
   ]
  },
  {
   "cell_type": "code",
   "execution_count": 5,
   "id": "7689198c-a151-461f-9df4-94d21ed0ad4e",
   "metadata": {},
   "outputs": [
    {
     "name": "stdout",
     "output_type": "stream",
     "text": [
      "PriyankaPal\n"
     ]
    }
   ],
   "source": [
    "# concatenation (addition)\n",
    "a='Priyanka'\n",
    "b='Pal'\n",
    "print(a+b)"
   ]
  },
  {
   "cell_type": "code",
   "execution_count": 6,
   "id": "92007c2f-70a5-481b-b6a8-5f07944ae2a0",
   "metadata": {},
   "outputs": [
    {
     "name": "stdout",
     "output_type": "stream",
     "text": [
      "Priyanka Pal\n"
     ]
    }
   ],
   "source": [
    "a='Priyanka'\n",
    "b='Pal'\n",
    "print(a+' '+b)"
   ]
  },
  {
   "cell_type": "code",
   "execution_count": 11,
   "id": "4e7e444e-6e0b-4a1a-82da-d6d68cc8fe33",
   "metadata": {},
   "outputs": [
    {
     "name": "stdout",
     "output_type": "stream",
     "text": [
      "Priyanka Priyanka Priyanka Priyanka Priyanka \n",
      "Hello_Hello_Hello_Hello_Hello_\n",
      "----------\n"
     ]
    }
   ],
   "source": [
    "# repetition (multiplication)\n",
    "print('Priyanka' ' ' *5)\n",
    "print(\"Hello_\" * 5)\n",
    "print(\"-\" * 10)"
   ]
  },
  {
   "cell_type": "code",
   "execution_count": null,
   "id": "4c9dcedf-14d7-4905-90ae-49c59eb52df0",
   "metadata": {},
   "outputs": [],
   "source": [
    "String Slicing & Indexing\n",
    "String Indexing is used to to select the letter at a particular index/position.\n",
    "String Slicing is a process to select a subset of an entire string"
   ]
  },
  {
   "cell_type": "code",
   "execution_count": 13,
   "id": "55cf66e0-6ca8-4574-82da-344165c58de8",
   "metadata": {},
   "outputs": [
    {
     "name": "stdout",
     "output_type": "stream",
     "text": [
      "a\n",
      "Worl\n",
      "World\n",
      "True\n"
     ]
    }
   ],
   "source": [
    "a = \"Namaste World\"\n",
    "\n",
    "# print sub strings\n",
    "print(a[1])     #This is indexing.\n",
    "print(a[8:12])  #This is known as slicing.\n",
    "print(a[-5:])\n",
    "\n",
    "# test substring membership\n",
    "print(\"World\" in a)"
   ]
  },
  {
   "cell_type": "code",
   "execution_count": 16,
   "id": "48626050-f18c-4f0e-8ecf-1e3c955b765e",
   "metadata": {},
   "outputs": [
    {
     "name": "stdout",
     "output_type": "stream",
     "text": [
      "ste \n"
     ]
    }
   ],
   "source": [
    "print(a[4:8])"
   ]
  },
  {
   "cell_type": "code",
   "execution_count": null,
   "id": "50d43f56-c8a8-4de6-bc87-21a17ea06a94",
   "metadata": {},
   "outputs": [],
   "source": [
    "Basic Built-in String methods\n",
    "Objects in Python usually have built-in methods. These methods are functions inside the object that can perform actions or commands on the object itself.\n",
    "\n",
    "We call methods with a period and then the method name. Methods are in the form:\n",
    "\n",
    "object.method(parameters)\n",
    "\n",
    "Where parameters are extra arguments we can pass into the method."
   ]
  },
  {
   "cell_type": "code",
   "execution_count": 17,
   "id": "2e51716c-f0f5-466f-8921-6902618be0de",
   "metadata": {},
   "outputs": [
    {
     "name": "stdout",
     "output_type": "stream",
     "text": [
      "HELLO WORLD\n",
      "hello world\n"
     ]
    }
   ],
   "source": [
    "s = \"Hello World\"\n",
    "\n",
    "print(s.upper()) ## Convert all the element of the string to Upper case..!!\n",
    "print(s.lower()) ## Convert all the element of the string to Lower case..!!"
   ]
  },
  {
   "cell_type": "code",
   "execution_count": 18,
   "id": "bbbad981-a1e9-4aeb-9138-0d51dedae6c1",
   "metadata": {},
   "outputs": [
    {
     "name": "stdout",
     "output_type": "stream",
     "text": [
      "<class 'str'>\n"
     ]
    }
   ],
   "source": [
    "# Check data type\n",
    "print(type(s))"
   ]
  },
  {
   "cell_type": "code",
   "execution_count": null,
   "id": "e77f93be-e78a-471e-b40d-d14ded8706d6",
   "metadata": {},
   "outputs": [],
   "source": [
    "Print Formatting\n",
    "We can use the .format() method to add formatted objects to printed string statements."
   ]
  },
  {
   "cell_type": "code",
   "execution_count": 19,
   "id": "77481481-6af0-40df-b75e-5b34f20c79eb",
   "metadata": {},
   "outputs": [
    {
     "name": "stdout",
     "output_type": "stream",
     "text": [
      "My name is Einstein, my age is 22, and it is True that I am married\n",
      "My name is Einstein, my age is 22, and it is True that I am married\n"
     ]
    }
   ],
   "source": [
    "name = \"Einstein\"\n",
    "age = 22\n",
    "married = True\n",
    "\n",
    "print(\"My name is %s, my age is %s, and it is %s that I am married\" % (name, age, married))\n",
    "\n",
    "print(\"My name is {}, my age is {}, and it is {} that I am married\".format(name, age, married))"
   ]
  },
  {
   "cell_type": "code",
   "execution_count": 20,
   "id": "dbe2f062-1a51-4847-a320-829e8e36a395",
   "metadata": {},
   "outputs": [
    {
     "name": "stdout",
     "output_type": "stream",
     "text": [
      "My name is Einstein, my age is 22\n"
     ]
    }
   ],
   "source": [
    "print(f\"My name is {name}, my age is {age}\")"
   ]
  }
 ],
 "metadata": {
  "kernelspec": {
   "display_name": "Python 3 (ipykernel)",
   "language": "python",
   "name": "python3"
  },
  "language_info": {
   "codemirror_mode": {
    "name": "ipython",
    "version": 3
   },
   "file_extension": ".py",
   "mimetype": "text/x-python",
   "name": "python",
   "nbconvert_exporter": "python",
   "pygments_lexer": "ipython3",
   "version": "3.12.0"
  }
 },
 "nbformat": 4,
 "nbformat_minor": 5
}
