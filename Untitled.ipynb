{
 "cells": [
  {
   "cell_type": "raw",
   "id": "f8aca379-1303-48cb-a366-bc1f1588bb90",
   "metadata": {},
   "source": [
    "Q1. Why do we call Python a general-purpose and high-level programming language?\n",
    "\n",
    "\n",
    "Python is a general-purpose and high-level programming language because it is designed to be used in a range of applications and for its ease of readability.\n",
    "\n",
    "Python is easy to understand and more natural for people to use. It is used in web development, data analysis, artificial intelligence, and scientific computing.\n"
   ]
  },
  {
   "cell_type": "raw",
   "id": "37c8bf57-9d41-4b35-84a1-4633ee3bbf12",
   "metadata": {},
   "source": []
  },
  {
   "cell_type": "raw",
   "id": "86b623a1-53cb-486b-bb14-003f69520f86",
   "metadata": {},
   "source": []
  },
  {
   "cell_type": "raw",
   "id": "2105d787-2f87-47a6-bece-13a9063de337",
   "metadata": {},
   "source": []
  }
 ],
 "metadata": {
  "kernelspec": {
   "display_name": "Python 3 (ipykernel)",
   "language": "python",
   "name": "python3"
  },
  "language_info": {
   "codemirror_mode": {
    "name": "ipython",
    "version": 3
   },
   "file_extension": ".py",
   "mimetype": "text/x-python",
   "name": "python",
   "nbconvert_exporter": "python",
   "pygments_lexer": "ipython3",
   "version": "3.10.6"
  }
 },
 "nbformat": 4,
 "nbformat_minor": 5
}
